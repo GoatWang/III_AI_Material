{
 "cells": [
  {
   "cell_type": "code",
   "execution_count": 1,
   "metadata": {
    "collapsed": false,
    "deletable": true,
    "editable": true
   },
   "outputs": [
    {
     "name": "stderr",
     "output_type": "stream",
     "text": [
      "c:\\users\\jeremy\\appdata\\local\\programs\\python\\python35\\lib\\site-packages\\sklearn\\cross_validation.py:44: DeprecationWarning: This module was deprecated in version 0.18 in favor of the model_selection module into which all the refactored classes and functions are moved. Also note that the interface of the new CV iterators are different from that of this module. This module will be removed in 0.20.\n",
      "  \"This module will be removed in 0.20.\", DeprecationWarning)\n"
     ]
    }
   ],
   "source": [
    "import pandas as pd\n",
    "import numpy as np\n",
    "from collections import Counter\n",
    "import re\n",
    "\n",
    "from sklearn import preprocessing\n",
    "\n",
    "import matplotlib.pyplot as plt\n",
    "from mpl_toolkits.mplot3d import Axes3D\n",
    "from sklearn.decomposition import PCA\n",
    "\n",
    "import os \n",
    "import random\n",
    "import math"
   ]
  },
  {
   "cell_type": "code",
   "execution_count": 2,
   "metadata": {
    "collapsed": false,
    "deletable": true,
    "editable": true
   },
   "outputs": [
    {
     "name": "stdout",
     "output_type": "stream",
     "text": [
      "<class 'pandas.core.frame.DataFrame'>\n",
      "RangeIndex: 891 entries, 0 to 890\n",
      "Data columns (total 12 columns):\n",
      "PassengerId    891 non-null int64\n",
      "Survived       891 non-null int64\n",
      "Pclass         891 non-null int64\n",
      "Name           891 non-null object\n",
      "Sex            891 non-null object\n",
      "Age            714 non-null float64\n",
      "SibSp          891 non-null int64\n",
      "Parch          891 non-null int64\n",
      "Ticket         891 non-null object\n",
      "Fare           891 non-null float64\n",
      "Cabin          204 non-null object\n",
      "Embarked       889 non-null object\n",
      "dtypes: float64(2), int64(5), object(5)\n",
      "memory usage: 83.6+ KB\n"
     ]
    }
   ],
   "source": [
    "df = pd.read_csv('train.csv')\n",
    "df.info()"
   ]
  },
  {
   "cell_type": "code",
   "execution_count": 4,
   "metadata": {
    "collapsed": false,
    "deletable": true,
    "editable": true
   },
   "outputs": [
    {
     "data": {
      "text/html": [
       "<div>\n",
       "<style>\n",
       "    .dataframe thead tr:only-child th {\n",
       "        text-align: right;\n",
       "    }\n",
       "\n",
       "    .dataframe thead th {\n",
       "        text-align: left;\n",
       "    }\n",
       "\n",
       "    .dataframe tbody tr th {\n",
       "        vertical-align: top;\n",
       "    }\n",
       "</style>\n",
       "<table border=\"1\" class=\"dataframe\">\n",
       "  <thead>\n",
       "    <tr style=\"text-align: right;\">\n",
       "      <th></th>\n",
       "      <th>PassengerId</th>\n",
       "      <th>Survived</th>\n",
       "      <th>Pclass</th>\n",
       "      <th>Age</th>\n",
       "      <th>SibSp</th>\n",
       "      <th>Parch</th>\n",
       "      <th>Fare</th>\n",
       "    </tr>\n",
       "  </thead>\n",
       "  <tbody>\n",
       "    <tr>\n",
       "      <th>count</th>\n",
       "      <td>891.000000</td>\n",
       "      <td>891.000000</td>\n",
       "      <td>891.000000</td>\n",
       "      <td>714.000000</td>\n",
       "      <td>891.000000</td>\n",
       "      <td>891.000000</td>\n",
       "      <td>891.000000</td>\n",
       "    </tr>\n",
       "    <tr>\n",
       "      <th>mean</th>\n",
       "      <td>446.000000</td>\n",
       "      <td>0.383838</td>\n",
       "      <td>2.308642</td>\n",
       "      <td>29.699118</td>\n",
       "      <td>0.523008</td>\n",
       "      <td>0.381594</td>\n",
       "      <td>32.204208</td>\n",
       "    </tr>\n",
       "    <tr>\n",
       "      <th>std</th>\n",
       "      <td>257.353842</td>\n",
       "      <td>0.486592</td>\n",
       "      <td>0.836071</td>\n",
       "      <td>14.526497</td>\n",
       "      <td>1.102743</td>\n",
       "      <td>0.806057</td>\n",
       "      <td>49.693429</td>\n",
       "    </tr>\n",
       "    <tr>\n",
       "      <th>min</th>\n",
       "      <td>1.000000</td>\n",
       "      <td>0.000000</td>\n",
       "      <td>1.000000</td>\n",
       "      <td>0.420000</td>\n",
       "      <td>0.000000</td>\n",
       "      <td>0.000000</td>\n",
       "      <td>0.000000</td>\n",
       "    </tr>\n",
       "    <tr>\n",
       "      <th>25%</th>\n",
       "      <td>223.500000</td>\n",
       "      <td>0.000000</td>\n",
       "      <td>2.000000</td>\n",
       "      <td>20.125000</td>\n",
       "      <td>0.000000</td>\n",
       "      <td>0.000000</td>\n",
       "      <td>7.910400</td>\n",
       "    </tr>\n",
       "    <tr>\n",
       "      <th>50%</th>\n",
       "      <td>446.000000</td>\n",
       "      <td>0.000000</td>\n",
       "      <td>3.000000</td>\n",
       "      <td>28.000000</td>\n",
       "      <td>0.000000</td>\n",
       "      <td>0.000000</td>\n",
       "      <td>14.454200</td>\n",
       "    </tr>\n",
       "    <tr>\n",
       "      <th>75%</th>\n",
       "      <td>668.500000</td>\n",
       "      <td>1.000000</td>\n",
       "      <td>3.000000</td>\n",
       "      <td>38.000000</td>\n",
       "      <td>1.000000</td>\n",
       "      <td>0.000000</td>\n",
       "      <td>31.000000</td>\n",
       "    </tr>\n",
       "    <tr>\n",
       "      <th>max</th>\n",
       "      <td>891.000000</td>\n",
       "      <td>1.000000</td>\n",
       "      <td>3.000000</td>\n",
       "      <td>80.000000</td>\n",
       "      <td>8.000000</td>\n",
       "      <td>6.000000</td>\n",
       "      <td>512.329200</td>\n",
       "    </tr>\n",
       "  </tbody>\n",
       "</table>\n",
       "</div>"
      ],
      "text/plain": [
       "       PassengerId    Survived      Pclass         Age       SibSp  \\\n",
       "count   891.000000  891.000000  891.000000  714.000000  891.000000   \n",
       "mean    446.000000    0.383838    2.308642   29.699118    0.523008   \n",
       "std     257.353842    0.486592    0.836071   14.526497    1.102743   \n",
       "min       1.000000    0.000000    1.000000    0.420000    0.000000   \n",
       "25%     223.500000    0.000000    2.000000   20.125000    0.000000   \n",
       "50%     446.000000    0.000000    3.000000   28.000000    0.000000   \n",
       "75%     668.500000    1.000000    3.000000   38.000000    1.000000   \n",
       "max     891.000000    1.000000    3.000000   80.000000    8.000000   \n",
       "\n",
       "            Parch        Fare  \n",
       "count  891.000000  891.000000  \n",
       "mean     0.381594   32.204208  \n",
       "std      0.806057   49.693429  \n",
       "min      0.000000    0.000000  \n",
       "25%      0.000000    7.910400  \n",
       "50%      0.000000   14.454200  \n",
       "75%      0.000000   31.000000  \n",
       "max      6.000000  512.329200  "
      ]
     },
     "execution_count": 4,
     "metadata": {},
     "output_type": "execute_result"
    }
   ],
   "source": [
    "df.describe()"
   ]
  },
  {
   "cell_type": "code",
   "execution_count": 7,
   "metadata": {
    "collapsed": false,
    "deletable": true,
    "editable": true
   },
   "outputs": [
    {
     "data": {
      "image/png": "[encoded data removed]",
      "text/plain": [
       "<matplotlib.figure.Figure at 0x2556f57f908>"
      ]
     },
     "metadata": {},
     "output_type": "display_data"
    }
   ],
   "source": [
    "df['Age'].plot('hist')\n",
    "plt.show()"
   ]
  },
  {
   "cell_type": "markdown",
   "metadata": {
    "deletable": true,
    "editable": true
   },
   "source": [
    "## Age - Fill in missing values, Normalize"
   ]
  },
  {
   "cell_type": "code",
   "execution_count": 10,
   "metadata": {
    "collapsed": false,
    "deletable": true,
    "editable": true
   },
   "outputs": [
    {
     "name": "stdout",
     "output_type": "stream",
     "text": [
      "avg_age 29.6991176471\n",
      "median_age 28.0\n",
      "random_age [43 35 23 23 24 26 26 27 35 26 20 40 35 36 23 38 40 23 37 24 39 20 37 43 23\n",
      " 36 18 22 26 42 20 25 21 30 38 24 42 17 25 17 23 16 16 24 43 41 43 42 21 17\n",
      " 25 23 23 23 29 39 29 30 40 37 39 26 40 40 30 31 30 15 27 23 15 38 31 40 28\n",
      " 36 21 35 36 41 40 16 22 36 25 24 38 19 36 16 33 42 32 37 19 23 25 30 43 16\n",
      " 41 15 28 15 37 18 30 30 28 32 26 18 28 23 15 27 41 18 18 21 39 16 43 42 27\n",
      " 33 16 39 28 26 17 26 39 20 18 33 15 21 21 32 21 23 38 23 34 43 25 29 29 24\n",
      " 35 23 27 24 32 16 24 38 43 32 39 21 37 36 25 21 40 29 21 25 35 16 33 23 26\n",
      " 35 37]\n"
     ]
    }
   ],
   "source": [
    "# 作法一: 取平均值\n",
    "avg_age = df['Age'].mean() \n",
    "# 作法二: 取中位數\n",
    "median_age = df['Age'].median()\n",
    "# 作法三: 用相同的分布產生亂數塞入\n",
    "std = df['Age'].std()\n",
    "mean = df['Age'].mean()\n",
    "size = len(df[pd.isnull(df['Age'])])\n",
    "random_age = np.random.randint(mean - std, mean + std, size=size)\n",
    "\n",
    "print(\"avg_age\", avg_age)\n",
    "print(\"median_age\", median_age)\n",
    "print(\"random_age\", random_age)"
   ]
  },
  {
   "cell_type": "code",
   "execution_count": 17,
   "metadata": {
    "collapsed": false,
    "deletable": true,
    "editable": true
   },
   "outputs": [
    {
     "data": {
      "text/html": [
       "<div>\n",
       "<style>\n",
       "    .dataframe thead tr:only-child th {\n",
       "        text-align: right;\n",
       "    }\n",
       "\n",
       "    .dataframe thead th {\n",
       "        text-align: left;\n",
       "    }\n",
       "\n",
       "    .dataframe tbody tr th {\n",
       "        vertical-align: top;\n",
       "    }\n",
       "</style>\n",
       "<table border=\"1\" class=\"dataframe\">\n",
       "  <thead>\n",
       "    <tr style=\"text-align: right;\">\n",
       "      <th></th>\n",
       "      <th>avg_age</th>\n",
       "      <th>median_age</th>\n",
       "      <th>random_age</th>\n",
       "    </tr>\n",
       "  </thead>\n",
       "  <tbody>\n",
       "    <tr>\n",
       "      <th>5</th>\n",
       "      <td>29.699118</td>\n",
       "      <td>28.0</td>\n",
       "      <td>43.0</td>\n",
       "    </tr>\n",
       "    <tr>\n",
       "      <th>17</th>\n",
       "      <td>29.699118</td>\n",
       "      <td>28.0</td>\n",
       "      <td>35.0</td>\n",
       "    </tr>\n",
       "    <tr>\n",
       "      <th>19</th>\n",
       "      <td>29.699118</td>\n",
       "      <td>28.0</td>\n",
       "      <td>23.0</td>\n",
       "    </tr>\n",
       "    <tr>\n",
       "      <th>26</th>\n",
       "      <td>29.699118</td>\n",
       "      <td>28.0</td>\n",
       "      <td>23.0</td>\n",
       "    </tr>\n",
       "    <tr>\n",
       "      <th>28</th>\n",
       "      <td>29.699118</td>\n",
       "      <td>28.0</td>\n",
       "      <td>24.0</td>\n",
       "    </tr>\n",
       "  </tbody>\n",
       "</table>\n",
       "</div>"
      ],
      "text/plain": [
       "      avg_age  median_age  random_age\n",
       "5   29.699118        28.0        43.0\n",
       "17  29.699118        28.0        35.0\n",
       "19  29.699118        28.0        23.0\n",
       "26  29.699118        28.0        23.0\n",
       "28  29.699118        28.0        24.0"
      ]
     },
     "execution_count": 17,
     "metadata": {},
     "output_type": "execute_result"
    }
   ],
   "source": [
    "df['avg_age'] = df['Age']\n",
    "df.loc[pd.isnull(df['Age']), 'avg_age'] = avg_age\n",
    "df['median_age'] = df['Age']\n",
    "df.loc[pd.isnull(df['Age']), 'median_age'] = median_age\n",
    "df['random_age'] = df['Age']\n",
    "df.loc[pd.isnull(df['Age']), 'random_age'] = random_age\n",
    "\n",
    "df.loc[pd.isnull(df['Age']), ['avg_age', 'median_age', 'random_age']].head()"
   ]
  },
  {
   "cell_type": "code",
   "execution_count": 95,
   "metadata": {
    "collapsed": false
   },
   "outputs": [
    {
     "name": "stdout",
     "output_type": "stream",
     "text": [
      "[[ 0.40824829 -0.40824829  0.81649658]\n",
      " [ 1.          0.          0.        ]\n",
      " [ 0.          0.70710678 -0.70710678]]\n",
      "[[ 0.25 -0.25  0.5 ]\n",
      " [ 1.    0.    0.  ]\n",
      " [ 0.    0.5  -0.5 ]]\n"
     ]
    }
   ],
   "source": [
    "X = [[ 1., -1.,  2.],\n",
    "     [ 2.,  0.,  0.],\n",
    "     [ 0.,  1., -1.]]\n",
    "X_normalized_l2 = preprocessing.normalize(X, norm='l2')\n",
    "X_normalized_l1 = preprocessing.normalize(X, norm='l1')\n",
    "print(X_normalized_l2)\n",
    "print(X_normalized_l1)\n",
    "# df['avg_age']"
   ]
  },
  {
   "cell_type": "code",
   "execution_count": 102,
   "metadata": {
    "collapsed": false
   },
   "outputs": [
    {
     "name": "stderr",
     "output_type": "stream",
     "text": [
      "c:\\users\\jeremy\\appdata\\local\\programs\\python\\python35\\lib\\site-packages\\sklearn\\utils\\validation.py:395: DeprecationWarning: Passing 1d arrays as data is deprecated in 0.17 and will raise ValueError in 0.19. Reshape your data either using X.reshape(-1, 1) if your data has a single feature or X.reshape(1, -1) if it contains a single sample.\n",
      "  DeprecationWarning)\n"
     ]
    },
    {
     "data": {
      "text/plain": [
       "array([  8.31383556e-04,   1.43602614e-03,   9.82544202e-04,\n",
       "         1.32265566e-03,   1.32265566e-03,   1.12233446e-03,\n",
       "         2.04066873e-03,   7.55803232e-05,   1.02033436e-03,\n",
       "         5.29062263e-04,   1.51160646e-04,   2.19182937e-03,\n",
       "         7.55803232e-04,   1.47381630e-03,   5.29062263e-04,\n",
       "         2.07845889e-03,   7.55803232e-05,   1.12233446e-03,\n",
       "         1.17149501e-03,   1.12233446e-03,   1.32265566e-03,\n",
       "         1.28486549e-03,   5.66852424e-04,   1.05812453e-03,\n",
       "         3.02321293e-04,   1.43602614e-03,   1.12233446e-03,\n",
       "         7.18013071e-04,   1.12233446e-03,   1.12233446e-03,\n",
       "         1.51160646e-03,   1.12233446e-03,   1.12233446e-03,\n",
       "         2.49415067e-03,   1.05812453e-03,   1.58718679e-03,\n",
       "         1.12233446e-03,   7.93593394e-04,   6.80222909e-04,\n",
       "         5.29062263e-04,   1.51160646e-03,   1.02033436e-03,\n",
       "         1.12233446e-03,   1.13370485e-04,   7.18013071e-04,\n",
       "         1.12233446e-03,   1.12233446e-03,   1.12233446e-03,\n",
       "         1.12233446e-03,   6.80222909e-04,   2.64531131e-04,\n",
       "         7.93593394e-04,   1.85171792e-03,   1.09591469e-03,\n",
       "         2.45636050e-03,   1.12233446e-03,   7.93593394e-04,\n",
       "         1.07701961e-03,   1.88950808e-04,   4.15691778e-04,\n",
       "         8.31383556e-04,   1.43602614e-03,   1.70055727e-03,\n",
       "         1.51160646e-04,   1.12233446e-03,   1.12233446e-03,\n",
       "         1.09591469e-03,   7.18013071e-04,   6.42432747e-04,\n",
       "         9.82544202e-04,   1.20928517e-03,   6.04642586e-04,\n",
       "         7.93593394e-04,   9.82544202e-04,   1.20928517e-03,\n",
       "         9.44754040e-04,   1.12233446e-03,   1.12233446e-03,\n",
       "         3.13658341e-05,   1.13370485e-03,   8.31383556e-04,\n",
       "         1.09591469e-03,   1.12233446e-03,   1.05812453e-03,\n",
       "         6.42432747e-04,   1.24707533e-03,   6.04642586e-04,\n",
       "         1.12233446e-03,   8.69173717e-04,   9.06963879e-04,\n",
       "         1.09591469e-03,   7.55803232e-04,   1.73834743e-03,\n",
       "         9.82544202e-04,   2.22961954e-03,   1.12233446e-03,\n",
       "         2.68310147e-03,   8.69173717e-04,   1.28486549e-03,\n",
       "         1.28486549e-03,   1.05812453e-03,   1.12233446e-03,\n",
       "         7.93593394e-04,   1.24707533e-03,   1.39823598e-03,\n",
       "         1.05812453e-03,   7.93593394e-04,   1.12233446e-03,\n",
       "         1.43602614e-03,   1.12233446e-03,   1.77613760e-03,\n",
       "         5.47957343e-04,   8.31383556e-04,   7.55803232e-04,\n",
       "         6.42432747e-04,   7.93593394e-04,   2.66420639e-03,\n",
       "         1.09591469e-03,   9.06963879e-04,   7.55803232e-05,\n",
       "         7.93593394e-04,   1.12233446e-03,   1.22818025e-03,\n",
       "         1.22818025e-03,   2.04066873e-03,   4.53481939e-04,\n",
       "         1.12233446e-03,   9.06963879e-04,   1.12233446e-03,\n",
       "         1.70055727e-03,   1.24707533e-03,   7.55803232e-04,\n",
       "         1.77613760e-03,   1.09591469e-03,   9.44754040e-04,\n",
       "         8.69173717e-04,   7.18013071e-04,   1.39823598e-03,\n",
       "         6.04642586e-04,   9.06963879e-04,   1.12233446e-03,\n",
       "         8.31383556e-04,   9.06963879e-04,   7.18013071e-04,\n",
       "         6.80222909e-04,   7.18013071e-04,   1.02033436e-03,\n",
       "         3.40111455e-04,   1.37934090e-03,   1.58718679e-03,\n",
       "         1.92729824e-03,   8.31383556e-04,   2.09735397e-03,\n",
       "         1.53050155e-03,   1.12233446e-03,   1.92729824e-03,\n",
       "         6.04642586e-04,   1.13370485e-03,   1.12233446e-03,\n",
       "         1.12233446e-03,   1.66276711e-03,   1.51160646e-03,\n",
       "         9.82544202e-04,   6.42432747e-04,   3.77901616e-05,\n",
       "         3.40111455e-04,   1.12233446e-03,   1.70055727e-03,\n",
       "         1.12233446e-03,   1.05812453e-03,   2.30519986e-03,\n",
       "         1.51160646e-04,   3.77901616e-05,   7.93593394e-04,\n",
       "         2.11624905e-03,   6.80222909e-04,   1.12233446e-03,\n",
       "         1.88950808e-03,   1.13370485e-03,   1.36044582e-03,\n",
       "         1.12233446e-03,   1.12233446e-03,   3.40111455e-04,\n",
       "         3.77901616e-05,   1.51160646e-04,   1.12233446e-03,\n",
       "         1.12233446e-03,   1.70055727e-03,   1.51160646e-03,\n",
       "         1.36044582e-03,   1.20928517e-03,   7.18013071e-04,\n",
       "         7.18013071e-04,   1.13370485e-04,   1.66276711e-03,\n",
       "         2.19182937e-03,   1.12233446e-03,   1.58718679e-03,\n",
       "         1.12233446e-03,   9.06963879e-04,   1.05812453e-03,\n",
       "         1.12233446e-03,   1.28486549e-03,   1.71945235e-03,\n",
       "         6.80222909e-04,   7.55803232e-05,   1.20928517e-03,\n",
       "         9.82544202e-04,   6.04642586e-04,   1.51160646e-03,\n",
       "         9.06963879e-04,   1.32265566e-03,   8.31383556e-04,\n",
       "         1.13370485e-03,   1.12233446e-03,   1.17149501e-03,\n",
       "         1.02033436e-03,   1.58718679e-03,   1.20928517e-03,\n",
       "         1.13370485e-03,   6.04642586e-04,   1.02033436e-03,\n",
       "         1.92729824e-03,   1.12233446e-03,   1.43602614e-03,\n",
       "         8.31383556e-04,   7.18013071e-04,   7.74698313e-04,\n",
       "         6.80222909e-04,   1.12233446e-03,   1.32265566e-03,\n",
       "         1.09591469e-03,   2.22961954e-03,   1.88950808e-04,\n",
       "         9.06963879e-04,   1.12233446e-03,   1.66276711e-03,\n",
       "         3.02321293e-04,   7.18013071e-04,   1.24707533e-03,\n",
       "         1.12233446e-03,   1.12233446e-03,   1.09591469e-03,\n",
       "         8.31383556e-04,   1.13370485e-03,   1.66276711e-03,\n",
       "         9.44754040e-04,   9.06963879e-04,   1.39823598e-03,\n",
       "         2.04066873e-03,   1.12233446e-03,   1.09591469e-03,\n",
       "         2.34299002e-03,   1.13370485e-03,   1.54939663e-03,\n",
       "         1.09591469e-03,   1.12233446e-03,   1.13370485e-03,\n",
       "         1.32265566e-03,   1.88950808e-03,   1.12233446e-03,\n",
       "         1.13370485e-04,   1.96508840e-03,   1.51160646e-03,\n",
       "         1.12233446e-03,   1.36044582e-03,   6.04642586e-04,\n",
       "         9.44754040e-04,   2.19182937e-03,   1.32265566e-03,\n",
       "         1.12233446e-03,   9.44754040e-04,   1.54939663e-03,\n",
       "         1.39823598e-03,   1.12233446e-03,   2.38078018e-03,\n",
       "         1.70055727e-03,   1.12233446e-03,   2.64531131e-04,\n",
       "         1.32265566e-03,   2.45636050e-03,   1.05812453e-03,\n",
       "         6.04642586e-04,   7.18013071e-04,   1.12233446e-03,\n",
       "         1.24707533e-03,   1.13370485e-03,   8.31383556e-04,\n",
       "         1.58718679e-03,   8.31383556e-04,   9.82544202e-04,\n",
       "         7.18013071e-04,   1.36044582e-03,   9.06963879e-04,\n",
       "         9.06963879e-04,   1.12233446e-03,   8.88068798e-04,\n",
       "         7.55803232e-05,   1.12233446e-03,   1.88950808e-03,\n",
       "         1.12233446e-03,   1.12233446e-03,   7.18013071e-04,\n",
       "         1.12233446e-03,   1.12233446e-03,   3.47669487e-05,\n",
       "         1.12233446e-03,   6.42432747e-04,   1.13370485e-03,\n",
       "         1.13370485e-03,   9.06963879e-04,   6.80222909e-04,\n",
       "         9.82544202e-04,   1.05812453e-03,   1.62497695e-03,\n",
       "         9.82544202e-04,   9.06963879e-04,   2.04066873e-03,\n",
       "         1.17149501e-03,   1.51160646e-03,   8.31383556e-04,\n",
       "         1.02033436e-03,   1.13370485e-03,   8.31383556e-04,\n",
       "         1.12233446e-03,   1.36044582e-03,   2.30519986e-03,\n",
       "         1.36044582e-03,   1.17149501e-03,   6.04642586e-04,\n",
       "         1.12233446e-03,   1.71945235e-03,   1.43602614e-03,\n",
       "         6.04642586e-04,   1.12233446e-03,   1.12233446e-03,\n",
       "         1.09591469e-03,   1.54939663e-03,   1.70055727e-03,\n",
       "         1.70055727e-03,   7.55803232e-05,   9.06963879e-04,\n",
       "         1.05812453e-03,   9.44754040e-04,   1.36044582e-03,\n",
       "         9.06963879e-04,   1.51160646e-03,   1.12233446e-03,\n",
       "         1.13370485e-04,   1.58718679e-03,   8.69173717e-04,\n",
       "         1.12233446e-03,   5.66852424e-04,   9.44754040e-04,\n",
       "         1.12233446e-03,   1.05812453e-03,   8.31383556e-04,\n",
       "         1.43602614e-03,   1.12233446e-03,   1.12233446e-03,\n",
       "         1.51160646e-03,   1.09591469e-03,   1.70055727e-03,\n",
       "         1.32265566e-03,   1.12233446e-03,   1.13370485e-03,\n",
       "         2.26740970e-03,   1.12233446e-03,   1.12233446e-03,\n",
       "         9.06963879e-04,   9.44754040e-04,   6.80222909e-04,\n",
       "         7.18013071e-04,   8.31383556e-04,   1.13370485e-04,\n",
       "         1.12233446e-03,   8.31383556e-04,   1.02033436e-03,\n",
       "         7.55803232e-04,   7.18013071e-04,   1.58718679e-03,\n",
       "         3.77901616e-05,   1.20928517e-03,   1.32265566e-03,\n",
       "         1.12233446e-03,   6.80222909e-04,   3.77901616e-05,\n",
       "         1.36044582e-03,   1.12233446e-03,   6.42432747e-04,\n",
       "         1.36044582e-03,   7.93593394e-04,   1.05812453e-03,\n",
       "         8.69173717e-04,   9.06963879e-04,   8.31383556e-04,\n",
       "         1.17149501e-03,   1.73834743e-03,   8.69173717e-04,\n",
       "         1.05812453e-03,   1.47381630e-03,   9.82544202e-04,\n",
       "         7.93593394e-04,   1.05812453e-03,   7.55803232e-04,\n",
       "         1.28486549e-03,   1.92729824e-03,   1.13370485e-04,\n",
       "         7.93593394e-04,   1.12233446e-03,   1.12233446e-03,\n",
       "         1.12233446e-03,   1.24707533e-03,   1.12233446e-03,\n",
       "         1.66276711e-03,   1.12233446e-03,   1.28486549e-03,\n",
       "         6.80222909e-04,   1.13370485e-03,   3.77901616e-04,\n",
       "         1.12233446e-03,   7.93593394e-04,   1.09591469e-03,\n",
       "         1.05812453e-03,   6.80222909e-04,   1.12233446e-03,\n",
       "         1.05812453e-03,   7.18013071e-04,   1.12233446e-03,\n",
       "         1.20928517e-03,   1.05812453e-03,   1.12233446e-03,\n",
       "         1.58718679e-03,   6.42432747e-04,   1.88950808e-03,\n",
       "         5.29062263e-04,   7.93593394e-04,   9.06963879e-04,\n",
       "         2.41857034e-03,   1.17149501e-03,   1.70055727e-03,\n",
       "         7.55803232e-04,   9.44754040e-04,   1.05812453e-03,\n",
       "         1.12233446e-03,   1.51160646e-04,   4.91272101e-04,\n",
       "         1.28486549e-03,   1.88950808e-04,   1.96508840e-03,\n",
       "         1.36044582e-03,   1.12233446e-03,   1.13370485e-03,\n",
       "         1.85171792e-03,   1.12233446e-03,   1.09591469e-03,\n",
       "         2.45636050e-03,   1.12233446e-03,   1.88950808e-03,\n",
       "         1.12233446e-03,   1.81392776e-03,   1.28486549e-03,\n",
       "         1.77613760e-03,   1.81392776e-03,   1.12233446e-03,\n",
       "         1.43602614e-03,   1.12233446e-03,   2.11624905e-03,\n",
       "         1.12233446e-03,   2.83426212e-05,   1.12233446e-03,\n",
       "         1.43602614e-03,   1.24707533e-03,   8.69173717e-04,\n",
       "         8.31383556e-04,   1.12233446e-03,   1.28486549e-03,\n",
       "         1.09591469e-03,   8.31383556e-04,   7.55803232e-05,\n",
       "         3.40111455e-04,   1.12233446e-03,   1.88950808e-03,\n",
       "         2.38078018e-03,   9.44754040e-04,   1.12233446e-03,\n",
       "         1.32265566e-03,   2.19182937e-03,   1.13370485e-03,\n",
       "         3.40111455e-04,   1.12233446e-03,   7.93593394e-04,\n",
       "         2.07845889e-03,   2.68310147e-03,   7.93593394e-04,\n",
       "         1.12233446e-03,   2.04066873e-03,   1.12233446e-03,\n",
       "         9.44754040e-04,   9.06963879e-04,   6.42432747e-04,\n",
       "         7.93593394e-04,   1.12233446e-03,   1.39823598e-03,\n",
       "         6.04642586e-04,   6.80222909e-04,   1.24707533e-03,\n",
       "         1.12233446e-03,   1.05812453e-03,   9.82544202e-04,\n",
       "         1.09591469e-03,   1.12233446e-03,   1.36044582e-03,\n",
       "         2.04066873e-03,   9.06963879e-04,   1.77613760e-03,\n",
       "         1.28486549e-03,   1.12233446e-03,   1.36044582e-03,\n",
       "         1.20928517e-03,   1.13370485e-03,   8.31383556e-04,\n",
       "         1.12233446e-03,   1.66276711e-03,   1.12233446e-03,\n",
       "         1.53050155e-03,   1.88950808e-03,   1.12233446e-03,\n",
       "         1.47381630e-03,   8.69173717e-04,   7.55803232e-05,\n",
       "         1.12233446e-03,   6.42432747e-04,   1.12233446e-03,\n",
       "         1.13370485e-03,   2.64531131e-04,   1.70055727e-03,\n",
       "         1.13370485e-03,   1.12233446e-03,   8.31383556e-04,\n",
       "         1.36044582e-03,   3.40111455e-04,   4.15691778e-04,\n",
       "         1.20928517e-03,   1.88950808e-03,   2.41857034e-03,\n",
       "         7.18013071e-04,   1.12233446e-03,   1.24707533e-03,\n",
       "         3.02321293e-04,   6.42432747e-04,   1.02033436e-03,\n",
       "         1.12233446e-03,   8.31383556e-04,   8.31383556e-04,\n",
       "         2.34299002e-03,   1.81392776e-03,   1.12233446e-03,\n",
       "         1.47381630e-03,   1.36044582e-03,   1.12233446e-03,\n",
       "         1.51160646e-03,   1.05812453e-03,   1.12233446e-03,\n",
       "         1.12233446e-03,   9.06963879e-04,   7.18013071e-04,\n",
       "         1.09591469e-03,   1.12233446e-03,   1.20928517e-03,\n",
       "         2.34299002e-03,   2.00287857e-03,   1.36044582e-03,\n",
       "         1.12233446e-03,   6.04642586e-04,   7.18013071e-04,\n",
       "         1.28486549e-03,   1.47381630e-03,   1.12233446e-03,\n",
       "         1.20928517e-03,   9.44754040e-04,   1.47381630e-03,\n",
       "         2.04066873e-03,   1.36044582e-03,   1.12233446e-03,\n",
       "         6.80222909e-04,   1.77613760e-03,   2.26740970e-03,\n",
       "         8.31383556e-04,   1.12233446e-03,   1.32265566e-03,\n",
       "         1.96508840e-03,   1.77613760e-03,   1.12233446e-03,\n",
       "         1.39823598e-03,   1.36044582e-03,   1.12233446e-03,\n",
       "         1.85171792e-03,   1.12233446e-03,   1.85171792e-03,\n",
       "         9.06963879e-04,   1.12233446e-03,   1.12233446e-03,\n",
       "         1.66276711e-03,   1.32265566e-03,   1.36044582e-03,\n",
       "         1.13370485e-03,   1.02033436e-03,   8.31383556e-04,\n",
       "         1.51160646e-03,   1.47381630e-03,   1.12233446e-03,\n",
       "         1.12233446e-03,   1.12233446e-03,   1.32265566e-03,\n",
       "         9.06963879e-04,   1.28486549e-03,   9.82544202e-04,\n",
       "         1.51160646e-04,   9.82544202e-04,   1.02033436e-03,\n",
       "         1.58718679e-03,   7.55803232e-04,   7.93593394e-04,\n",
       "         7.93593394e-04,   2.30519986e-03,   2.15403921e-03,\n",
       "         7.93593394e-04,   9.82544202e-04,   1.12233446e-03,\n",
       "         3.02321293e-03,   1.92729824e-03,   1.20928517e-03,\n",
       "         1.12233446e-03,   3.40111455e-04,   1.05812453e-03,\n",
       "         1.20928517e-03,   1.17149501e-03,   1.54939663e-03,\n",
       "         1.12233446e-03,   7.55803232e-04,   9.06963879e-04,\n",
       "         7.55803232e-05,   1.12233446e-03,   2.83426212e-05,\n",
       "         1.81392776e-03,   7.18013071e-04,   2.11624905e-03,\n",
       "         1.12233446e-03,   8.69173717e-04,   1.12233446e-03,\n",
       "         6.80222909e-04,   7.93593394e-04,   1.12233446e-03,\n",
       "         6.80222909e-04,   9.06963879e-04,   1.12233446e-03,\n",
       "         1.20928517e-03,   8.69173717e-04,   2.19182937e-03,\n",
       "         1.88950808e-03,   1.51160646e-03,   1.77613760e-03,\n",
       "         1.36044582e-03,   7.55803232e-04,   1.20928517e-03,\n",
       "         9.44754040e-04,   1.12233446e-03,   1.62497695e-03,\n",
       "         1.12233446e-03,   1.51160646e-03,   1.17149501e-03,\n",
       "         2.64531131e-03,   1.17149501e-03,   1.12233446e-03,\n",
       "         6.80222909e-04,   9.25858960e-04,   6.80222909e-04,\n",
       "         1.62497695e-03,   1.36044582e-03,   1.12233446e-03,\n",
       "         1.02033436e-03,   7.55803232e-04,   5.29062263e-04,\n",
       "         2.26740970e-03,   9.44754040e-04,   5.29062263e-04,\n",
       "         7.18013071e-04,   6.80222909e-04,   5.66852424e-04,\n",
       "         1.17149501e-03,   1.51160646e-04,   1.12233446e-03,\n",
       "         9.44754040e-04,   2.26740970e-03,   1.96508840e-03,\n",
       "         1.66276711e-03,   1.12233446e-03,   1.85171792e-03,\n",
       "         1.58718679e-03,   6.80222909e-04,   1.32265566e-03,\n",
       "         6.80222909e-04,   9.44754040e-04,   9.82544202e-04,\n",
       "         1.47381630e-03,   1.70055727e-03,   1.58718679e-03,\n",
       "         8.31383556e-04,   1.12233446e-03,   9.06963879e-04,\n",
       "         1.12233446e-03,   1.81392776e-03,   1.09591469e-03,\n",
       "         1.96508840e-03,   7.18013071e-04,   1.43602614e-03,\n",
       "         1.02033436e-03,   1.12233446e-03,   1.24707533e-03,\n",
       "         2.26740970e-04,   6.42432747e-04,   1.28486549e-03,\n",
       "         1.88950808e-03,   1.02033436e-03,   7.55803232e-04,\n",
       "         1.13370485e-03,   1.12233446e-03,   9.44754040e-04,\n",
       "         9.44754040e-04,   1.09591469e-03,   4.15691778e-04,\n",
       "         1.12233446e-03,   8.69173717e-04,   8.69173717e-04,\n",
       "         1.07701961e-03,   1.81392776e-03,   1.32265566e-03,\n",
       "         1.12233446e-03,   1.12233446e-03,   1.12233446e-03,\n",
       "         1.36044582e-03,   7.93593394e-04,   9.06963879e-04,\n",
       "         1.17149501e-03,   2.64531131e-03,   6.04642586e-04,\n",
       "         1.13370485e-03,   7.18013071e-04,   1.17149501e-03,\n",
       "         1.51160646e-04,   2.26740970e-04,   1.24707533e-03,\n",
       "         8.69173717e-04,   1.81392776e-03,   2.53194083e-05,\n",
       "         1.05812453e-03,   6.80222909e-04,   1.28486549e-03,\n",
       "         1.24707533e-03,   1.12233446e-03,   1.54939663e-03,\n",
       "         7.55803232e-04,   1.36044582e-03,   6.04642586e-04,\n",
       "         1.92729824e-03,   1.12233446e-03,   1.15259993e-03,\n",
       "         1.12233446e-03,   1.20928517e-03,   9.06963879e-04,\n",
       "         1.81392776e-03,   2.15403921e-03,   1.12233446e-03,\n",
       "         2.04066873e-03,   6.80222909e-04,   1.12233446e-03,\n",
       "         1.88950808e-04,   1.12233446e-03,   1.62497695e-03,\n",
       "         4.91272101e-04,   6.42432747e-04,   1.09591469e-03,\n",
       "         1.12233446e-03,   9.44754040e-04,   9.44754040e-04,\n",
       "         6.80222909e-04,   3.02321293e-04,   3.77901616e-05,\n",
       "         1.73834743e-03,   1.12233446e-03,   6.04642586e-04,\n",
       "         1.12233446e-03,   1.12233446e-03,   9.44754040e-04,\n",
       "         1.47381630e-03,   1.85171792e-03,   1.17149501e-03,\n",
       "         1.13370485e-03,   1.13370485e-03,   1.28486549e-03,\n",
       "         1.17149501e-03,   4.15691778e-04,   1.58718679e-05,\n",
       "         1.02033436e-03,   1.17149501e-03,   1.47381630e-03,\n",
       "         6.80222909e-04,   1.47381630e-03,   1.24707533e-03,\n",
       "         9.82544202e-04,   1.47381630e-03,   1.32265566e-03,\n",
       "         2.26740970e-04,   1.15259993e-03,   1.12233446e-03,\n",
       "         8.69173717e-04,   1.17149501e-03,   1.62497695e-03,\n",
       "         3.77901616e-04,   1.96508840e-03,   1.02033436e-03,\n",
       "         1.43602614e-03,   1.02033436e-03,   7.55803232e-05,\n",
       "         1.12233446e-03,   1.12233446e-03,   3.77901616e-05,\n",
       "         1.12233446e-03,   2.34299002e-03,   5.66852424e-04,\n",
       "         3.13658341e-05,   1.12233446e-03,   8.69173717e-04,\n",
       "         6.80222909e-04,   1.47381630e-03,   7.93593394e-04,\n",
       "         1.12233446e-03,   1.20928517e-03,   1.12233446e-03,\n",
       "         7.55803232e-04,   6.04642586e-04,   1.13370485e-03,\n",
       "         1.30376058e-03,   6.42432747e-04,   1.58718679e-03,\n",
       "         1.12233446e-03,   1.32265566e-03,   1.05812453e-03,\n",
       "         1.12233446e-03,   1.51160646e-04,   2.79647196e-03,\n",
       "         3.40111455e-04,   6.04642586e-04,   1.66276711e-03,\n",
       "         6.80222909e-04,   1.70055727e-03,   1.92729824e-03,\n",
       "         9.06963879e-04,   1.12233446e-03,   1.54939663e-03,\n",
       "         7.93593394e-04,   1.81392776e-03,   1.12233446e-03,\n",
       "         9.06963879e-04,   1.58718679e-03,   1.02033436e-03,\n",
       "         1.17149501e-03,   1.12233446e-03,   1.51160646e-04,\n",
       "         9.82544202e-04,   1.77613760e-03,   1.24707533e-03,\n",
       "         1.77613760e-03,   1.05812453e-03,   5.66852424e-04,\n",
       "         7.55803232e-04,   7.18013071e-04,   1.12233446e-03,\n",
       "         2.11624905e-03,   9.44754040e-04,   1.24707533e-03,\n",
       "         8.31383556e-04,   1.05812453e-03,   9.44754040e-04,\n",
       "         1.47381630e-03,   1.02033436e-03,   7.18013071e-04,\n",
       "         1.12233446e-03,   9.82544202e-04,   1.20928517e-03])"
      ]
     },
     "execution_count": 102,
     "metadata": {},
     "output_type": "execute_result"
    }
   ],
   "source": [
    "preprocessing.normalize(df['avg_age'], norm='l1')[0]"
   ]
  },
  {
   "cell_type": "code",
   "execution_count": 104,
   "metadata": {
    "collapsed": false
   },
   "outputs": [
    {
     "name": "stderr",
     "output_type": "stream",
     "text": [
      "c:\\users\\jeremy\\appdata\\local\\programs\\python\\python35\\lib\\site-packages\\sklearn\\utils\\validation.py:395: DeprecationWarning: Passing 1d arrays as data is deprecated in 0.17 and will raise ValueError in 0.19. Reshape your data either using X.reshape(-1, 1) if your data has a single feature or X.reshape(1, -1) if it contains a single sample.\n",
      "  DeprecationWarning)\n",
      "c:\\users\\jeremy\\appdata\\local\\programs\\python\\python35\\lib\\site-packages\\sklearn\\utils\\validation.py:395: DeprecationWarning: Passing 1d arrays as data is deprecated in 0.17 and will raise ValueError in 0.19. Reshape your data either using X.reshape(-1, 1) if your data has a single feature or X.reshape(1, -1) if it contains a single sample.\n",
      "  DeprecationWarning)\n"
     ]
    },
    {
     "data": {
      "text/html": [
       "<div>\n",
       "<style>\n",
       "    .dataframe thead tr:only-child th {\n",
       "        text-align: right;\n",
       "    }\n",
       "\n",
       "    .dataframe thead th {\n",
       "        text-align: left;\n",
       "    }\n",
       "\n",
       "    .dataframe tbody tr th {\n",
       "        vertical-align: top;\n",
       "    }\n",
       "</style>\n",
       "<table border=\"1\" class=\"dataframe\">\n",
       "  <thead>\n",
       "    <tr style=\"text-align: right;\">\n",
       "      <th></th>\n",
       "      <th>avg_age</th>\n",
       "      <th>avg_age_l1</th>\n",
       "      <th>avg_age_l2</th>\n",
       "    </tr>\n",
       "  </thead>\n",
       "  <tbody>\n",
       "    <tr>\n",
       "      <th>0</th>\n",
       "      <td>22.0</td>\n",
       "      <td>0.000831</td>\n",
       "      <td>0.022735</td>\n",
       "    </tr>\n",
       "    <tr>\n",
       "      <th>1</th>\n",
       "      <td>38.0</td>\n",
       "      <td>0.001436</td>\n",
       "      <td>0.039270</td>\n",
       "    </tr>\n",
       "    <tr>\n",
       "      <th>2</th>\n",
       "      <td>26.0</td>\n",
       "      <td>0.000983</td>\n",
       "      <td>0.026869</td>\n",
       "    </tr>\n",
       "    <tr>\n",
       "      <th>3</th>\n",
       "      <td>35.0</td>\n",
       "      <td>0.001323</td>\n",
       "      <td>0.036170</td>\n",
       "    </tr>\n",
       "    <tr>\n",
       "      <th>4</th>\n",
       "      <td>35.0</td>\n",
       "      <td>0.001323</td>\n",
       "      <td>0.036170</td>\n",
       "    </tr>\n",
       "  </tbody>\n",
       "</table>\n",
       "</div>"
      ],
      "text/plain": [
       "   avg_age  avg_age_l1  avg_age_l2\n",
       "0     22.0    0.000831    0.022735\n",
       "1     38.0    0.001436    0.039270\n",
       "2     26.0    0.000983    0.026869\n",
       "3     35.0    0.001323    0.036170\n",
       "4     35.0    0.001323    0.036170"
      ]
     },
     "execution_count": 104,
     "metadata": {},
     "output_type": "execute_result"
    }
   ],
   "source": [
    "df['avg_age_l1'] = preprocessing.normalize(df['avg_age'], norm='l1')[0]\n",
    "df['avg_age_l2'] = preprocessing.normalize(df['avg_age'], norm='l2')[0]\n",
    "\n",
    "df[['avg_age', 'avg_age_l1', 'avg_age_l2']].head()"
   ]
  },
  {
   "cell_type": "markdown",
   "metadata": {
    "deletable": true,
    "editable": true
   },
   "source": [
    "## Cabin - NLP category"
   ]
  },
  {
   "cell_type": "code",
   "execution_count": 18,
   "metadata": {
    "collapsed": false,
    "deletable": true,
    "editable": true
   },
   "outputs": [
    {
     "data": {
      "text/plain": [
       "{'A10': 1,\n",
       " 'A14': 1,\n",
       " 'A16': 1,\n",
       " 'A19': 1,\n",
       " 'A20': 1,\n",
       " 'A23': 1,\n",
       " 'A24': 1,\n",
       " 'A26': 1,\n",
       " 'A31': 1,\n",
       " 'A32': 1,\n",
       " 'A34': 1,\n",
       " 'A36': 1,\n",
       " 'A5': 1,\n",
       " 'A6': 1,\n",
       " 'A7': 1,\n",
       " 'B101': 2,\n",
       " 'B102': 2,\n",
       " 'B18': 2,\n",
       " 'B19': 2,\n",
       " 'B20': 2,\n",
       " 'B22': 2,\n",
       " 'B28': 2,\n",
       " 'B3': 2,\n",
       " 'B30': 2,\n",
       " 'B35': 2,\n",
       " 'B37': 2,\n",
       " 'B38': 2,\n",
       " 'B39': 2,\n",
       " 'B4': 2,\n",
       " 'B41': 2,\n",
       " 'B42': 2,\n",
       " 'B49': 2,\n",
       " 'B5': 2,\n",
       " 'B50': 2,\n",
       " 'B51 B53 B55': 2,\n",
       " 'B57 B59 B63 B66': 2,\n",
       " 'B58 B60': 2,\n",
       " 'B69': 2,\n",
       " 'B71': 2,\n",
       " 'B73': 2,\n",
       " 'B77': 2,\n",
       " 'B78': 2,\n",
       " 'B79': 2,\n",
       " 'B80': 2,\n",
       " 'B82 B84': 2,\n",
       " 'B86': 2,\n",
       " 'B94': 2,\n",
       " 'B96 B98': 2,\n",
       " 'C101': 3,\n",
       " 'C103': 3,\n",
       " 'C104': 3,\n",
       " 'C106': 3,\n",
       " 'C110': 3,\n",
       " 'C111': 3,\n",
       " 'C118': 3,\n",
       " 'C123': 3,\n",
       " 'C124': 3,\n",
       " 'C125': 3,\n",
       " 'C126': 3,\n",
       " 'C128': 3,\n",
       " 'C148': 3,\n",
       " 'C2': 3,\n",
       " 'C22 C26': 3,\n",
       " 'C23 C25 C27': 3,\n",
       " 'C30': 3,\n",
       " 'C32': 3,\n",
       " 'C45': 3,\n",
       " 'C46': 3,\n",
       " 'C47': 3,\n",
       " 'C49': 3,\n",
       " 'C50': 3,\n",
       " 'C52': 3,\n",
       " 'C54': 3,\n",
       " 'C62 C64': 3,\n",
       " 'C65': 3,\n",
       " 'C68': 3,\n",
       " 'C7': 3,\n",
       " 'C70': 3,\n",
       " 'C78': 3,\n",
       " 'C82': 3,\n",
       " 'C83': 3,\n",
       " 'C85': 3,\n",
       " 'C86': 3,\n",
       " 'C87': 3,\n",
       " 'C90': 3,\n",
       " 'C91': 3,\n",
       " 'C92': 3,\n",
       " 'C93': 3,\n",
       " 'C95': 3,\n",
       " 'C99': 3,\n",
       " 'D': 4,\n",
       " 'D10 D12': 4,\n",
       " 'D11': 4,\n",
       " 'D15': 4,\n",
       " 'D17': 4,\n",
       " 'D19': 4,\n",
       " 'D20': 4,\n",
       " 'D21': 4,\n",
       " 'D26': 4,\n",
       " 'D28': 4,\n",
       " 'D30': 4,\n",
       " 'D33': 4,\n",
       " 'D35': 4,\n",
       " 'D36': 4,\n",
       " 'D37': 4,\n",
       " 'D45': 4,\n",
       " 'D46': 4,\n",
       " 'D47': 4,\n",
       " 'D48': 4,\n",
       " 'D49': 4,\n",
       " 'D50': 4,\n",
       " 'D56': 4,\n",
       " 'D6': 4,\n",
       " 'D7': 4,\n",
       " 'D9': 4,\n",
       " 'E10': 5,\n",
       " 'E101': 5,\n",
       " 'E12': 5,\n",
       " 'E121': 5,\n",
       " 'E17': 5,\n",
       " 'E24': 5,\n",
       " 'E25': 5,\n",
       " 'E31': 5,\n",
       " 'E33': 5,\n",
       " 'E34': 5,\n",
       " 'E36': 5,\n",
       " 'E38': 5,\n",
       " 'E40': 5,\n",
       " 'E44': 5,\n",
       " 'E46': 5,\n",
       " 'E49': 5,\n",
       " 'E50': 5,\n",
       " 'E58': 5,\n",
       " 'E63': 5,\n",
       " 'E67': 5,\n",
       " 'E68': 5,\n",
       " 'E77': 5,\n",
       " 'E8': 5,\n",
       " 'F E69': 0,\n",
       " 'F G63': 0,\n",
       " 'F G73': 0,\n",
       " 'F2': 0,\n",
       " 'F33': 0,\n",
       " 'F38': 0,\n",
       " 'F4': 0,\n",
       " 'G6': 0,\n",
       " 'T': 0,\n",
       " nan: 0}"
      ]
     },
     "execution_count": 18,
     "metadata": {},
     "output_type": "execute_result"
    }
   ],
   "source": [
    "# cabin\n",
    "cabin_cat = {}\n",
    "for cabin in df['Cabin']:\n",
    "    if pd.isnull(cabin):\n",
    "        cabin_cat[cabin] = 0\n",
    "    elif cabin.startswith('A'):\n",
    "        cabin_cat[cabin] = 1\n",
    "    elif cabin.startswith('B'):\n",
    "        cabin_cat[cabin] = 2\n",
    "    elif cabin.startswith('C'):\n",
    "        cabin_cat[cabin] = 3\n",
    "    elif cabin.startswith('D'):\n",
    "        cabin_cat[cabin] = 4\n",
    "    elif cabin.startswith('E'):\n",
    "        cabin_cat[cabin] = 5\n",
    "    else:\n",
    "        cabin_cat[cabin] = 0\n",
    "        \n",
    "cabin_cat"
   ]
  },
  {
   "cell_type": "code",
   "execution_count": 20,
   "metadata": {
    "collapsed": false,
    "deletable": true,
    "editable": true
   },
   "outputs": [
    {
     "data": {
      "text/html": [
       "<div>\n",
       "<style>\n",
       "    .dataframe thead tr:only-child th {\n",
       "        text-align: right;\n",
       "    }\n",
       "\n",
       "    .dataframe thead th {\n",
       "        text-align: left;\n",
       "    }\n",
       "\n",
       "    .dataframe tbody tr th {\n",
       "        vertical-align: top;\n",
       "    }\n",
       "</style>\n",
       "<table border=\"1\" class=\"dataframe\">\n",
       "  <thead>\n",
       "    <tr style=\"text-align: right;\">\n",
       "      <th></th>\n",
       "      <th>Cabin</th>\n",
       "      <th>cabin_cat</th>\n",
       "    </tr>\n",
       "  </thead>\n",
       "  <tbody>\n",
       "    <tr>\n",
       "      <th>0</th>\n",
       "      <td>NaN</td>\n",
       "      <td>0</td>\n",
       "    </tr>\n",
       "    <tr>\n",
       "      <th>1</th>\n",
       "      <td>C85</td>\n",
       "      <td>3</td>\n",
       "    </tr>\n",
       "    <tr>\n",
       "      <th>2</th>\n",
       "      <td>NaN</td>\n",
       "      <td>0</td>\n",
       "    </tr>\n",
       "    <tr>\n",
       "      <th>3</th>\n",
       "      <td>C123</td>\n",
       "      <td>3</td>\n",
       "    </tr>\n",
       "    <tr>\n",
       "      <th>4</th>\n",
       "      <td>NaN</td>\n",
       "      <td>0</td>\n",
       "    </tr>\n",
       "  </tbody>\n",
       "</table>\n",
       "</div>"
      ],
      "text/plain": [
       "  Cabin  cabin_cat\n",
       "0   NaN          0\n",
       "1   C85          3\n",
       "2   NaN          0\n",
       "3  C123          3\n",
       "4   NaN          0"
      ]
     },
     "execution_count": 20,
     "metadata": {},
     "output_type": "execute_result"
    }
   ],
   "source": [
    "df['cabin_cat'] = df['Cabin'].apply(lambda x:cabin_cat.get(x))\n",
    "df[['Cabin', 'cabin_cat']].head()"
   ]
  },
  {
   "cell_type": "code",
   "execution_count": 72,
   "metadata": {
    "collapsed": false
   },
   "outputs": [
    {
     "data": {
      "text/plain": [
       "Counter({0: 705, 1: 15, 2: 47, 3: 59, 4: 33, 5: 32})"
      ]
     },
     "execution_count": 72,
     "metadata": {},
     "output_type": "execute_result"
    }
   ],
   "source": [
    "Counter(df['cabin_cat'])"
   ]
  },
  {
   "cell_type": "markdown",
   "metadata": {
    "deletable": true,
    "editable": true
   },
   "source": [
    "## Sex - Category"
   ]
  },
  {
   "cell_type": "code",
   "execution_count": 47,
   "metadata": {
    "collapsed": false,
    "deletable": true,
    "editable": true
   },
   "outputs": [
    {
     "data": {
      "text/plain": [
       "0      male\n",
       "1    female\n",
       "2    female\n",
       "3    female\n",
       "4      male\n",
       "Name: Sex, dtype: object"
      ]
     },
     "execution_count": 47,
     "metadata": {},
     "output_type": "execute_result"
    }
   ],
   "source": [
    "df['Sex'].head()"
   ]
  },
  {
   "cell_type": "code",
   "execution_count": 55,
   "metadata": {
    "collapsed": false,
    "deletable": true,
    "editable": true
   },
   "outputs": [
    {
     "data": {
      "text/plain": [
       "0    1.0\n",
       "1    0.0\n",
       "2    0.0\n",
       "3    0.0\n",
       "4    1.0\n",
       "Name: sex_cat, dtype: float64"
      ]
     },
     "execution_count": 55,
     "metadata": {},
     "output_type": "execute_result"
    }
   ],
   "source": [
    "df.loc[df['Sex'] == 'male', 'sex_cat'] = 1\n",
    "df.loc[df['Sex'] == 'female', 'sex_cat'] = 0\n",
    "df['sex_cat'].head()"
   ]
  },
  {
   "cell_type": "code",
   "execution_count": 73,
   "metadata": {
    "collapsed": false
   },
   "outputs": [
    {
     "data": {
      "text/plain": [
       "Counter({0.0: 314, 1.0: 577})"
      ]
     },
     "execution_count": 73,
     "metadata": {},
     "output_type": "execute_result"
    }
   ],
   "source": [
    "Counter(df['sex_cat'])"
   ]
  },
  {
   "cell_type": "markdown",
   "metadata": {
    "collapsed": true,
    "deletable": true,
    "editable": true
   },
   "source": [
    "## Ticket - Category"
   ]
  },
  {
   "cell_type": "code",
   "execution_count": 78,
   "metadata": {
    "collapsed": false,
    "deletable": true,
    "editable": true,
    "scrolled": true
   },
   "outputs": [
    {
     "name": "stdout",
     "output_type": "stream",
     "text": [
      "{'349252': 1, '28551': 1, 'A/5 21171': 2, 'C.A. 37671': 3, '330923': 1, '35852': 1, '343120': 1, '349218': 1, '349241': 1, '29751': 1, '11771': 1, '3101276': 1, '113794': 1, 'A/5 21173': 2, '364500': 1, '350036': 1, '386525': 1, '2627': 1, '248738': 1, '343275': 1, '347081': 1, '350025': 1, '113789': 1, 'A/4. 34244': 2, '228414': 1, 'C.A. 24580': 3, 'C 7076': 3, '250647': 1, '345780': 1, '231919': 1, '2699': 1, 'PC 17476': 5, 'PC 17755': 5, '244367': 1, '349249': 1, '220845': 1, '315037': 1, '111428': 1, '371362': 1, 'STON/O 2. 3101280': 7, '349239': 1, '28424': 1, '349204': 1, '3101264': 1, 'SOTON/OQ 392076': 6, '350035': 1, '349909': 1, '19877': 1, '3101296': 1, 'PC 17604': 5, '347068': 1, '345773': 1, '244310': 1, '2908': 1, '2641': 1, '237789': 1, '243847': 1, '2669': 1, '230136': 1, '26360': 1, '3460': 1, '370371': 1, '2683': 1, '36928': 1, '370129': 1, '343095': 1, 'PC 17597': 5, '1601': 1, 'STON/O 2. 3101286': 7, '19928': 1, '315084': 1, '7267': 1, 'SC/PARIS 2149': 8, '31028': 1, 'SOTON/OQ 392090': 6, '250646': 1, '36947': 1, 'PC 17485': 5, '347062': 1, 'PC 17318': 5, '111426': 1, '250653': 1, '349242': 1, '349247': 1, '349222': 1, '36973': 1, 'A/5 2817': 2, '349251': 1, '223596': 1, 'PC 17592': 5, '54636': 1, '36866': 1, '113059': 1, '347470': 1, '2649': 1, 'A./5. 2152': 2, '11668': 1, '370376': 1, '370377': 1, '9234': 1, 'STON/O 2. 3101273': 7, '234604': 1, '315096': 1, '5727': 1, 'PC 17601': 5, 'A/S 2816': 2, 'A/5. 2151': 2, '250651': 1, '376564': 1, 'S.O./P.P. 3': 8, 'S.O.P. 1166': 8, 'A/5. 3337': 2, '19947': 1, '382652': 1, '243880': 1, '2629': 1, '350052': 1, 'PC 17757': 5, 'STON/O2. 3101290': 7, '3101278': 1, '335677': 1, '111240': 1, '65306': 1, '345763': 1, '8475': 1, 'PC 17610': 5, 'S.O.C. 14879': 8, 'C.A. 29395': 3, '349206': 1, '113784': 1, '364511': 1, '2003': 1, '349257': 1, 'PC 17483': 5, '315082': 1, '349207': 1, '219533': 1, 'STON/O2. 3101283': 7, '382651': 1, 'C.A. 33112': 3, '349214': 1, '248733': 1, 'A.5. 18509': 2, '330932': 1, '239856': 1, '110152': 1, '36209': 1, '315097': 1, '348121': 1, 'PC 17585': 5, '312992': 1, 'PC 17590': 5, '113767': 1, 'STON/O 2. 3101292': 7, '368703': 1, '350046': 1, '349240': 1, 'W.E.P. 5734': 9, '350050': 1, '7552': 1, 'SW/PP 751': 8, '2626': 1, '363291': 1, 'SOTON/O.Q. 392087': 6, '330931': 1, 'A/5 21172': 2, '113509': 1, '362316': 1, 'C 7075': 3, '11753': 1, '2672': 1, 'C.A. 18723': 3, 'STON/O 2. 3101275': 7, 'A/5. 10482': 2, '248723': 1, '11751': 1, '13214': 1, '330935': 1, '347083': 1, '349244': 1, '28403': 1, '368323': 1, '113803': 1, '29103': 1, 'SOTON/O2 3101272': 6, '347087': 1, 'PC 17600': 5, 'SC 1748': 8, '349224': 1, '345572': 1, '336439': 1, 'W./C. 6608': 9, '113051': 1, 'S.O./P.P. 751': 8, '233866': 1, '250655': 1, '2685': 1, '112052': 1, 'PC 17596': 5, 'STON/O 2. 3101294': 7, '239854': 1, '2664': 1, 'SOTON/O2 3101287': 6, '6563': 1, '371110': 1, '363294': 1, 'PC 17474': 5, '34218': 1, '250649': 1, 'SC/Paris 2123': 8, '348124': 1, 'STON/O 2. 3101274': 7, '349231': 1, '113788': 1, '348123': 1, '244373': 1, '29750': 1, '345767': 1, 'C.A. 33111': 3, 'PC 17754': 5, '370369': 1, '323951': 1, 'SOTON/OQ 3101317': 6, '370372': 1, 'S.W./PP 752': 8, 'F.C.C. 13528': 4, '2677': 1, '13509': 1, '112059': 1, 'PC 17582': 5, 'PP 4348': 5, '349233': 1, '110465': 1, '31027': 1, '3101267': 1, '349243': 1, '349221': 1, '394140': 1, '36963': 1, '2671': 1, '13507': 1, '347089': 1, 'C.A. 29178': 3, '14973': 1, 'C.A. 2673': 3, '113773': 1, '234818': 1, '4134': 1, '2690': 1, '364849': 1, '2663': 1, '350034': 1, '364512': 1, '374910': 1, '349246': 1, '250643': 1, '244361': 1, '113760': 1, '345364': 1, '2689': 1, '345781': 1, '347074': 1, '13213': 1, 'A/5. 851': 2, '248706': 1, '244270': 1, '4137': 1, '113572': 1, 'P/PP 3381': 5, 'S.C./PARIS 2079': 8, '250644': 1, '17474': 1, '363592': 1, '2623': 1, '113505': 1, '237668': 1, '12460': 1, '36967': 1, '113501': 1, '364516': 1, '367229': 1, '113783': 1, '113798': 1, '349201': 1, 'C 7077': 3, '315098': 1, '323592': 1, 'C.A. 2315': 3, '2695': 1, 'A/5 21174': 2, '345779': 1, '26707': 1, 'C 17369': 3, '14311': 1, '17464': 1, '27042': 1, '113807': 1, '367230': 1, '113510': 1, 'SC/PARIS 2167': 8, '374746': 1, '370373': 1, '367226': 1, '113776': 1, 'STON/O 2. 3101289': 7, '343276': 1, '113781': 1, '17421': 1, '230433': 1, '358585': 1, '7598': 1, '350407': 1, '230080': 1, '345774': 1, '349212': 1, '35281': 1, '349215': 1, 'W./C. 14263': 9, 'PC 17760': 5, '110813': 1, 'SC/AH 29037': 8, '234360': 1, '341826': 1, '350404': 1, '350417': 1, '2926': 1, '236852': 1, '315086': 1, '2667': 1, '349216': 1, '250652': 1, '330979': 1, '350029': 1, '236853': 1, 'A/5 3902': 2, '27849': 1, '347064': 1, '113786': 1, '239855': 1, '29104': 1, '7534': 1, '2700': 1, '4138': 1, '349253': 1, '16988': 1, '347061': 1, '231945': 1, '695': 1, '111427': 1, '370365': 1, '218629': 1, '240929': 1, '349254': 1, 'PC 17761': 5, '111361': 1, '248698': 1, '113055': 1, '8471': 1, '248731': 1, '374887': 1, '350026': 1, '349248': 1, '349223': 1, '347464': 1, '345765': 1, '229236': 1, '11752': 1, '2651': 1, 'SC/PARIS 2131': 8, '2631': 1, 'CA. 2343': 3, '324669': 1, '382649': 1, '244278': 1, '315090': 1, '370370': 1, '28220': 1, '347076': 1, '3101298': 1, 'PC 17595': 5, '220367': 1, 'PC 17612': 5, '349234': 1, '248740': 1, '2624': 1, 'SOTON/OQ 3101316': 6, 'STON/O2. 3101279': 7, 'PC 17756': 5, '2659': 1, 'C.A. 5547': 3, '2650': 1, '112050': 1, '347071': 1, '11774': 1, 'SOTON/O.Q. 3101312': 6, '7540': 1, '29106': 1, '250648': 1, '347743': 1, '36865': 1, 'C.A. 29566': 3, '2666': 1, '345770': 1, '364498': 1, '315089': 1, '347742': 1, '349208': 1, '3101265': 1, '28213': 1, 'PC 17572': 5, '237736': 1, 'PC 17609': 5, '367228': 1, '392092': 1, '349203': 1, 'STON/O 2. 3101288': 7, '365222': 1, 'PC 17611': 5, 'SOTON/O.Q. 3101306': 6, '226875': 1, '2625': 1, '244358': 1, '3101281': 1, '17465': 1, '112277': 1, 'STON/O2. 3101282': 7, 'A./5. 3235': 2, '330959': 1, '335097': 1, '11967': 1, 'F.C. 12750': 4, '383121': 1, '4579': 1, '65304': 1, 'STON/O 2. 3101293': 7, '350042': 1, '372622': 1, '113800': 1, '29011': 1, '376566': 1, 'PC 17758': 5, '17466': 1, '371060': 1, '315153': 1, 'SOTON/O.Q. 3101311': 6, '233639': 1, '364506': 1, '349210': 1, '29105': 1, 'A/5 3594': 2, '330909': 1, 'W./C. 6609': 9, '364850': 1, '2661': 1, '345777': 1, 'C.A. 34260': 3, 'PC 17482': 5, '2223': 1, 'PC 17599': 5, '11767': 1, '350060': 1, '239865': 1, '347077': 1, '349228': 1, '330958': 1, '16966': 1, 'SO/C 14885': 8, 'SC/PARIS 2146': 8, '347080': 1, 'A/5. 3336': 2, '112058': 1, 'A/5 3536': 2, 'STON/O2. 3101271': 7, 'SC/AH 3085': 8, '111369': 1, 'C 4001': 3, '367232': 1, '13567': 1, '350047': 1, 'PC 17759': 5, '11765': 1, '17764': 1, '248727': 1, '3101295': 1, '330980': 1, '113806': 1, 'A/5. 13032': 2, '2687': 1, '110413': 1, '330919': 1, '2628': 1, '4136': 1, 'SOTON/OQ 392086': 6, 'C.A. 17248': 3, '28665': 1, 'A/4. 20589': 2, '113804': 1, '2697': 1, '2680': 1, '4135': 1, 'SOTON/OQ 392089': 6, '226593': 1, '2647': 1, '370375': 1, 'A.5. 11206': 2, '347067': 1, 'C.A./SOTON 34068': 3, '364848': 1, '35273': 1, 'PC 17477': 5, 'A4. 54510': 2, 'SCO/W 1585': 8, '392096': 1, '347073': 1, '19950': 1, '347468': 1, '17453': 1, '349225': 1, '2674': 1, 'C.A. 33595': 3, '112379': 1, '2691': 1, '349209': 1, '237565': 1, 'W./C. 14258': 9, '345764': 1, '312991': 1, '3411': 1, 'SOTON/O.Q. 392078': 6, '349912': 1, '113514': 1, '347063': 1, '234686': 1, '12233': 1, '113787': 1, '349245': 1, 'W./C. 6607': 9, '236171': 1, '237671': 1, '13502': 1, '36864': 1, '113503': 1, '347069': 1, '347060': 1, '237442': 1, '2668': 1, '248747': 1, 'LINE': 0, '113792': 1, '349205': 1, '113050': 1, 'A/5 2466': 2, '347054': 1, '65303': 1, '349217': 1, '315088': 1, '347466': 1, 'W/C 14208': 9, '2693': 1, 'PP 9549': 5, '350048': 1, '28134': 1, 'S.P. 3464': 8, 'PC 17593': 5, '21440': 1, '2665': 1, '211536': 1, 'WE/P 5735': 9, '365226': 1, '28206': 1, '36568': 1, 'SOTON/O.Q. 3101310': 6, 'SC/AH Basle 541': 8, '11755': 1, '3101277': 1, '312993': 1, '345769': 1, '384461': 1, 'SOTON/O.Q. 3101307': 6, '112053': 1, '7545': 1, '244252': 1, 'F.C.C. 13529': 4, '17463': 1, 'PC 17603': 5, '367231': 1, '31418': 1, '14312': 1, 'PC 17473': 5, '693': 1, '3474': 1, 'PC 17475': 5, '315094': 1, '113796': 1, 'S.C./A.4. 23567': 8, 'A/4 45380': 2, 'CA. 2314': 3, 'A/5 3540': 2, 'C.A. 6212': 3, 'PC 17569': 5, '349227': 1, '7553': 1, 'SOTON/OQ 392082': 6, '349213': 1, '364499': 1, '27267': 1, '19952': 1, 'STON/O 2. 3101285': 7, '35851': 1, '349236': 1, '2648': 1, '113056': 1, '347088': 1, '347085': 1, '349256': 1, '364846': 1, '349237': 1, 'CA 2144': 3, '113028': 1, 'SC/Paris 2163': 8, '315093': 1, '350406': 1, '342826': 1, '29108': 1, '19972': 1, '230434': 1, 'A/4. 39886': 2, 'PC 17558': 5, '33638': 1, '345778': 1, '2620': 1, '315151': 1, '345783': 1, '2694': 1, '347078': 1, '13568': 1, 'A/4 48871': 2, 'C.A. 34651': 3, '12749': 1, '4133': 1, '330877': 1, '2662': 1, 'Fa 265302': 4, '7546': 1, '19996': 1, 'SC/PARIS 2133': 8, '349219': 1, 'C.A. 31026': 3, 'F.C.C. 13531': 4, '13049': 1, 'PC 17608': 5, 'C.A. 24579': 3, '239853': 1, '28425': 1, '19988': 1, '2678': 1, '28228': 1, 'PC 17605': 5, 'C.A. 31921': 3, '237798': 1, '392091': 1, '111320': 1, '334912': 1, '11813': 1, '2653': 1, '367655': 1, '14313': 1, '2686': 1, '347082': 1, '110564': 1, '373450': 1, '349910': 1, '24160': 1, '364851': 1, '350043': 1, 'SOTON/O.Q. 3101305': 6, '28664': 1, '19943': 1, 'STON/O 2. 3101269': 7, '11769': 1, '113043': 1}\n"
     ]
    }
   ],
   "source": [
    "# ticket\n",
    "ticket_cat = {}\n",
    "for ticket in df['Ticket']:\n",
    "    if ticket.isdigit():\n",
    "        ticket_cat[ticket] = 1\n",
    "    elif ticket.startswith('A'):\n",
    "        ticket_cat[ticket] = 2\n",
    "    elif ticket.startswith('C'):\n",
    "        ticket_cat[ticket] = 3\n",
    "    elif ticket.startswith('F'):\n",
    "        ticket_cat[ticket] = 4\n",
    "    elif ticket.startswith('P'):\n",
    "        ticket_cat[ticket] = 5\n",
    "    elif ticket.startswith('SOTON'):\n",
    "        ticket_cat[ticket] = 6\n",
    "    elif ticket.startswith('STON'):\n",
    "        ticket_cat[ticket] = 7\n",
    "    elif ticket.startswith('S'):\n",
    "        ticket_cat[ticket] = 8\n",
    "    elif ticket.startswith('W'):\n",
    "        ticket_cat[ticket] = 9\n",
    "    else:\n",
    "        ticket_cat[ticket] = 0\n",
    "    \n",
    "print(ticket_cat)"
   ]
  },
  {
   "cell_type": "code",
   "execution_count": 65,
   "metadata": {
    "collapsed": false
   },
   "outputs": [
    {
     "data": {
      "text/plain": [
       "0    2\n",
       "1    5\n",
       "2    7\n",
       "3    1\n",
       "4    1\n",
       "Name: ticket_cat, dtype: int64"
      ]
     },
     "execution_count": 65,
     "metadata": {},
     "output_type": "execute_result"
    }
   ],
   "source": [
    "df['ticket_cat'] = df['Ticket'].apply(ticket_cat.get)\n",
    "df['ticket_cat'].head()"
   ]
  },
  {
   "cell_type": "code",
   "execution_count": 79,
   "metadata": {
    "collapsed": false
   },
   "outputs": [
    {
     "name": "stdout",
     "output_type": "stream",
     "text": [
      "Counter({1: 661, 5: 65, 3: 47, 8: 30, 2: 29, 7: 18, 6: 17, 9: 13, 4: 7, 0: 4})\n"
     ]
    }
   ],
   "source": [
    "print(Counter(df['ticket_cat']))\n"
   ]
  },
  {
   "cell_type": "markdown",
   "metadata": {},
   "source": [
    "## Embarked - Category"
   ]
  },
  {
   "cell_type": "code",
   "execution_count": 71,
   "metadata": {
    "collapsed": false
   },
   "outputs": [
    {
     "data": {
      "text/plain": [
       "0    S\n",
       "1    C\n",
       "2    S\n",
       "3    S\n",
       "4    S\n",
       "Name: Embarked, dtype: object"
      ]
     },
     "execution_count": 71,
     "metadata": {},
     "output_type": "execute_result"
    }
   ],
   "source": [
    "df['Embarked'].head()"
   ]
  },
  {
   "cell_type": "code",
   "execution_count": 81,
   "metadata": {
    "collapsed": true
   },
   "outputs": [],
   "source": [
    "# embarked\n",
    "embarked_cat = {}\n",
    "for embarked in df['Embarked']:\n",
    "    if pd.isnull(embarked):\n",
    "        embarked_cat[embarked] = 0\n",
    "    elif embarked.startswith('S'):\n",
    "        embarked_cat[embarked] = 0\n",
    "    elif embarked.startswith('Q'):\n",
    "        embarked_cat[embarked] = 1\n",
    "    elif embarked.startswith('C'):\n",
    "        embarked_cat[embarked] = 2"
   ]
  },
  {
   "cell_type": "code",
   "execution_count": 82,
   "metadata": {
    "collapsed": false
   },
   "outputs": [
    {
     "data": {
      "text/plain": [
       "0    0\n",
       "1    2\n",
       "2    0\n",
       "3    0\n",
       "4    0\n",
       "Name: embarked_cat, dtype: int64"
      ]
     },
     "execution_count": 82,
     "metadata": {},
     "output_type": "execute_result"
    }
   ],
   "source": [
    "df['embarked_cat'] = df['Embarked'].apply(embarked_cat.get)\n",
    "df['embarked_cat'].head()"
   ]
  },
  {
   "cell_type": "code",
   "execution_count": 83,
   "metadata": {
    "collapsed": false
   },
   "outputs": [
    {
     "data": {
      "text/plain": [
       "Counter({0: 646, 1: 77, 2: 168})"
      ]
     },
     "execution_count": 83,
     "metadata": {},
     "output_type": "execute_result"
    }
   ],
   "source": [
    "Counter(df['embarked_cat'])"
   ]
  },
  {
   "cell_type": "markdown",
   "metadata": {},
   "source": [
    "## Title - NLP category, Length, onehot"
   ]
  },
  {
   "cell_type": "code",
   "execution_count": 84,
   "metadata": {
    "collapsed": true
   },
   "outputs": [],
   "source": [
    "# title\n",
    "title_mapping= {\n",
    "    'Ms':\"Miss\",\n",
    "    'Mlle':\"Miss\",\n",
    "    'Miss':\"Miss\",\n",
    "    'Mrs':\"Mrs\",\n",
    "    'Mme':\"Mrs\",\n",
    "    'MrsMartin(ElizabethL':\"Mrs\",\n",
    "    'Mr':\"Mr\"\n",
    "    }\n",
    "\n",
    "title_cat = {\"Mr\": 1, \"Miss\": 2, \"Mrs\": 3, \"Master\": 4, \"Rare\": 5}"
   ]
  },
  {
   "cell_type": "code",
   "execution_count": 120,
   "metadata": {
    "collapsed": false
   },
   "outputs": [
    {
     "data": {
      "text/plain": [
       "0    1\n",
       "1    3\n",
       "2    2\n",
       "3    3\n",
       "4    1\n",
       "Name: title, dtype: int64"
      ]
     },
     "execution_count": 120,
     "metadata": {},
     "output_type": "execute_result"
    }
   ],
   "source": [
    "def process_title(name):\n",
    "    call = re.search(r'\\,.+\\.', name).group(0).replace(\",\", \"\").replace(\".\", \"\").replace(\" \", \"\")\n",
    "    if title_cat.get(call):\n",
    "        return title_cat.get(call)\n",
    "    else:\n",
    "        return title_cat.get(title_mapping.get(call, \"Rare\"))\n",
    "df['title'] = df['Name'].apply(process_title) \n",
    "df['title'] .head()"
   ]
  },
  {
   "cell_type": "code",
   "execution_count": 121,
   "metadata": {
    "collapsed": false
   },
   "outputs": [
    {
     "data": {
      "text/plain": [
       "Counter({1: 517, 2: 185, 3: 126, 4: 40, 5: 23})"
      ]
     },
     "execution_count": 121,
     "metadata": {},
     "output_type": "execute_result"
    }
   ],
   "source": [
    "Counter(df['title'])"
   ]
  },
  {
   "cell_type": "code",
   "execution_count": 122,
   "metadata": {
    "collapsed": false
   },
   "outputs": [
    {
     "data": {
      "text/plain": [
       "array([[ 1.,  0.,  0.,  0.,  0.],\n",
       "       [ 0.,  0.,  1.,  0.,  0.],\n",
       "       [ 0.,  1.,  0.,  0.,  0.],\n",
       "       ..., \n",
       "       [ 0.,  1.,  0.,  0.,  0.],\n",
       "       [ 1.,  0.,  0.,  0.,  0.],\n",
       "       [ 1.,  0.,  0.,  0.,  0.]])"
      ]
     },
     "execution_count": 122,
     "metadata": {},
     "output_type": "execute_result"
    }
   ],
   "source": [
    "enc = preprocessing.OneHotEncoder()\n",
    "enc.fit_transform(df['title'].values.reshape(-1,1)).toarray()"
   ]
  },
  {
   "cell_type": "code",
   "execution_count": 105,
   "metadata": {
    "collapsed": false
   },
   "outputs": [
    {
     "data": {
      "text/plain": [
       "0    23\n",
       "1    51\n",
       "2    22\n",
       "3    44\n",
       "4    24\n",
       "Name: name_length, dtype: int64"
      ]
     },
     "execution_count": 105,
     "metadata": {},
     "output_type": "execute_result"
    }
   ],
   "source": [
    "df['name_length'] = df['Name'].apply(len)\n",
    "df['name_length'].head()"
   ]
  },
  {
   "cell_type": "markdown",
   "metadata": {
    "deletable": true,
    "editable": true
   },
   "source": [
    "## Fare - PCA, smooth noisy data, feature generation"
   ]
  },
  {
   "cell_type": "code",
   "execution_count": 29,
   "metadata": {
    "collapsed": false,
    "deletable": true,
    "editable": true
   },
   "outputs": [
    {
     "data": {
      "text/plain": [
       "count    891.000000\n",
       "mean      32.204208\n",
       "std       49.693429\n",
       "min        0.000000\n",
       "25%        7.910400\n",
       "50%       14.454200\n",
       "75%       31.000000\n",
       "max      512.329200\n",
       "Name: Fare, dtype: float64"
      ]
     },
     "execution_count": 29,
     "metadata": {},
     "output_type": "execute_result"
    }
   ],
   "source": [
    "df['Fare'].describe()"
   ]
  },
  {
   "cell_type": "code",
   "execution_count": 39,
   "metadata": {
    "collapsed": false,
    "deletable": true,
    "editable": true
   },
   "outputs": [
    {
     "data": {
      "text/plain": [
       "Index(['PassengerId', 'Survived', 'Pclass', 'Name', 'Sex', 'Age', 'SibSp',\n",
       "       'Parch', 'Ticket', 'Fare', 'Cabin', 'Embarked', 'avg_age', 'median_age',\n",
       "       'random_age', 'cabin_cat', 'avg_fare', 'fare_log10'],\n",
       "      dtype='object')"
      ]
     },
     "execution_count": 39,
     "metadata": {},
     "output_type": "execute_result"
    }
   ],
   "source": [
    "df.columns"
   ]
  },
  {
   "cell_type": "code",
   "execution_count": 67,
   "metadata": {
    "collapsed": false,
    "deletable": true,
    "editable": true
   },
   "outputs": [
    {
     "data": {
      "image/png": "[encoded data removed]",
      "text/plain": [
       "<matplotlib.figure.Figure at 0x25571744278>"
      ]
     },
     "metadata": {},
     "output_type": "display_data"
    }
   ],
   "source": [
    "X = np.matrix(df[['Parch', 'SibSp', 'avg_age', 'avg_fare']])\n",
    "Y = np.array(df['Survived'])\n",
    "\n",
    "fig = plt.figure(1, figsize=(8, 6))\n",
    "ax = Axes3D(fig, elev=-150, azim=110)\n",
    "\n",
    "X_reduced = PCA(n_components=3).fit_transform(X)\n",
    "ax.scatter(X_reduced[:, 0], X_reduced[:, 1], X_reduced[:, 2], c=Y,\n",
    "           cmap=plt.cm.Set1, edgecolor='k', s=40)\n",
    "ax.set_title(\"PCA with non-log(Fare)\")\n",
    "ax.set_xlabel(\"1st eigenvector\")\n",
    "ax.w_xaxis.set_ticklabels([])\n",
    "ax.set_ylabel(\"2nd eigenvector\")\n",
    "ax.w_yaxis.set_ticklabels([])\n",
    "ax.set_zlabel(\"3rd eigenvector\")\n",
    "ax.w_zaxis.set_ticklabels([])\n",
    "\n",
    "plt.show()"
   ]
  },
  {
   "cell_type": "code",
   "execution_count": 38,
   "metadata": {
    "collapsed": false,
    "deletable": true,
    "editable": true
   },
   "outputs": [
    {
     "data": {
      "text/html": [
       "<div>\n",
       "<style>\n",
       "    .dataframe thead tr:only-child th {\n",
       "        text-align: right;\n",
       "    }\n",
       "\n",
       "    .dataframe thead th {\n",
       "        text-align: left;\n",
       "    }\n",
       "\n",
       "    .dataframe tbody tr th {\n",
       "        vertical-align: top;\n",
       "    }\n",
       "</style>\n",
       "<table border=\"1\" class=\"dataframe\">\n",
       "  <thead>\n",
       "    <tr style=\"text-align: right;\">\n",
       "      <th></th>\n",
       "      <th>Fare</th>\n",
       "      <th>fare_log10</th>\n",
       "    </tr>\n",
       "  </thead>\n",
       "  <tbody>\n",
       "    <tr>\n",
       "      <th>0</th>\n",
       "      <td>7.2500</td>\n",
       "      <td>0.860338</td>\n",
       "    </tr>\n",
       "    <tr>\n",
       "      <th>1</th>\n",
       "      <td>71.2833</td>\n",
       "      <td>1.852988</td>\n",
       "    </tr>\n",
       "    <tr>\n",
       "      <th>2</th>\n",
       "      <td>7.9250</td>\n",
       "      <td>0.898999</td>\n",
       "    </tr>\n",
       "    <tr>\n",
       "      <th>3</th>\n",
       "      <td>53.1000</td>\n",
       "      <td>1.725095</td>\n",
       "    </tr>\n",
       "    <tr>\n",
       "      <th>4</th>\n",
       "      <td>8.0500</td>\n",
       "      <td>0.905796</td>\n",
       "    </tr>\n",
       "  </tbody>\n",
       "</table>\n",
       "</div>"
      ],
      "text/plain": [
       "      Fare  fare_log10\n",
       "0   7.2500    0.860338\n",
       "1  71.2833    1.852988\n",
       "2   7.9250    0.898999\n",
       "3  53.1000    1.725095\n",
       "4   8.0500    0.905796"
      ]
     },
     "execution_count": 38,
     "metadata": {},
     "output_type": "execute_result"
    }
   ],
   "source": [
    "avg_fare = df['Fare'].mean()\n",
    "def Fare_log(fare):\n",
    "    if fare != 0 :\n",
    "        return math.log(fare, 10)\n",
    "    else:\n",
    "        return 0\n",
    "df['Fare'].fillna(avg_fare)\n",
    "df['fare_log10'] = df['Fare'].apply(Fare_log)\n",
    "df[['Fare', 'fare_log10']].head()"
   ]
  },
  {
   "cell_type": "code",
   "execution_count": 68,
   "metadata": {
    "collapsed": false,
    "deletable": true,
    "editable": true
   },
   "outputs": [
    {
     "data": {
      "image/png": "[encoded data removed]",
      "text/plain": [
       "<matplotlib.figure.Figure at 0x25571611160>"
      ]
     },
     "metadata": {},
     "output_type": "display_data"
    }
   ],
   "source": [
    "X = np.matrix(df[['Parch', 'SibSp', 'avg_age', 'fare_log10']])\n",
    "Y = np.array(df['Survived'])\n",
    "\n",
    "fig = plt.figure(1, figsize=(8, 6))\n",
    "ax = Axes3D(fig, elev=-150, azim=110)\n",
    "\n",
    "X_reduced = PCA(n_components=3).fit_transform(X)\n",
    "ax.scatter(X_reduced[:, 0], X_reduced[:, 1], X_reduced[:, 2], c=Y,\n",
    "           cmap=plt.cm.Set1, edgecolor='k', s=40)\n",
    "ax.set_title(\"PCA with non-log(Fare)\")\n",
    "ax.set_xlabel(\"1st eigenvector\")\n",
    "ax.w_xaxis.set_ticklabels([])\n",
    "ax.set_ylabel(\"2nd eigenvector\")\n",
    "ax.w_yaxis.set_ticklabels([])\n",
    "ax.set_zlabel(\"3rd eigenvector\")\n",
    "ax.w_zaxis.set_ticklabels([])\n",
    "\n",
    "plt.show()"
   ]
  },
  {
   "cell_type": "code",
   "execution_count": 133,
   "metadata": {
    "collapsed": false,
    "scrolled": true
   },
   "outputs": [
    {
     "data": {
      "text/plain": [
       "array([[  1.00000000e+00,   8.60338007e-01,   2.20000000e+01,\n",
       "          7.40181486e-01,   1.89274361e+01,   4.84000000e+02],\n",
       "       [  1.00000000e+00,   1.85298780e+00,   3.80000000e+01,\n",
       "          3.43356378e+00,   7.04135363e+01,   1.44400000e+03],\n",
       "       [  1.00000000e+00,   8.98999271e-01,   2.60000000e+01,\n",
       "          8.08199689e-01,   2.33739810e+01,   6.76000000e+02],\n",
       "       ..., \n",
       "       [  1.00000000e+00,   1.37014285e+00,   3.70000000e+01,\n",
       "          1.87729142e+00,   5.06952853e+01,   1.36900000e+03],\n",
       "       [  1.00000000e+00,   1.47712125e+00,   2.60000000e+01,\n",
       "          2.18188720e+00,   3.84051526e+01,   6.76000000e+02],\n",
       "       [  1.00000000e+00,   8.89301703e-01,   3.20000000e+01,\n",
       "          7.90857518e-01,   2.84576545e+01,   1.02400000e+03]])"
      ]
     },
     "execution_count": 133,
     "metadata": {},
     "output_type": "execute_result"
    }
   ],
   "source": [
    "poly = preprocessing.PolynomialFeatures(2)\n",
    "age_fare_ploy = poly.fit_transform(df[['fare_log10', 'random_age']])\n",
    "age_fare_ploy"
   ]
  },
  {
   "cell_type": "markdown",
   "metadata": {
    "collapsed": true,
    "deletable": true,
    "editable": true
   },
   "source": [
    "## Preprocessing Conclude"
   ]
  },
  {
   "cell_type": "code",
   "execution_count": 106,
   "metadata": {
    "collapsed": false,
    "deletable": true,
    "editable": true
   },
   "outputs": [
    {
     "data": {
      "text/plain": [
       "Index(['PassengerId', 'Survived', 'Pclass', 'Name', 'Sex', 'Age', 'SibSp',\n",
       "       'Parch', 'Ticket', 'Fare', 'Cabin', 'Embarked', 'avg_age', 'median_age',\n",
       "       'random_age', 'cabin_cat', 'avg_fare', 'fare_log10', 'sex_cat',\n",
       "       'ticket_cat', 'ticket_cat1', 'embarked_cat', 'title', 'avg_age_l1',\n",
       "       'avg_age_l2', 'name_length'],\n",
       "      dtype='object')"
      ]
     },
     "execution_count": 106,
     "metadata": {},
     "output_type": "execute_result"
    }
   ],
   "source": [
    "df.columns"
   ]
  },
  {
   "cell_type": "code",
   "execution_count": 108,
   "metadata": {
    "collapsed": false
   },
   "outputs": [
    {
     "data": {
      "text/html": [
       "<div>\n",
       "<style>\n",
       "    .dataframe thead tr:only-child th {\n",
       "        text-align: right;\n",
       "    }\n",
       "\n",
       "    .dataframe thead th {\n",
       "        text-align: left;\n",
       "    }\n",
       "\n",
       "    .dataframe tbody tr th {\n",
       "        vertical-align: top;\n",
       "    }\n",
       "</style>\n",
       "<table border=\"1\" class=\"dataframe\">\n",
       "  <thead>\n",
       "    <tr style=\"text-align: right;\">\n",
       "      <th></th>\n",
       "      <th>Age</th>\n",
       "      <th>random_age</th>\n",
       "      <th>avg_age_l1</th>\n",
       "      <th>avg_age_l2</th>\n",
       "      <th>cabin_cat</th>\n",
       "      <th>Fare</th>\n",
       "      <th>fare_log10</th>\n",
       "      <th>sex_cat</th>\n",
       "      <th>ticket_cat</th>\n",
       "      <th>embarked_cat</th>\n",
       "      <th>title</th>\n",
       "      <th>name_length</th>\n",
       "      <th>SibSp</th>\n",
       "      <th>Parch</th>\n",
       "    </tr>\n",
       "  </thead>\n",
       "  <tbody>\n",
       "    <tr>\n",
       "      <th>count</th>\n",
       "      <td>714.000000</td>\n",
       "      <td>891.000000</td>\n",
       "      <td>891.000000</td>\n",
       "      <td>891.000000</td>\n",
       "      <td>891.000000</td>\n",
       "      <td>891.000000</td>\n",
       "      <td>891.000000</td>\n",
       "      <td>891.000000</td>\n",
       "      <td>891.000000</td>\n",
       "      <td>891.000000</td>\n",
       "      <td>891.000000</td>\n",
       "      <td>891.000000</td>\n",
       "      <td>891.000000</td>\n",
       "      <td>891.000000</td>\n",
       "    </tr>\n",
       "    <tr>\n",
       "      <th>mean</th>\n",
       "      <td>29.699118</td>\n",
       "      <td>29.510853</td>\n",
       "      <td>0.001122</td>\n",
       "      <td>0.030692</td>\n",
       "      <td>0.648709</td>\n",
       "      <td>32.204208</td>\n",
       "      <td>1.256781</td>\n",
       "      <td>0.647587</td>\n",
       "      <td>2.017957</td>\n",
       "      <td>0.463524</td>\n",
       "      <td>1.773288</td>\n",
       "      <td>26.965208</td>\n",
       "      <td>0.523008</td>\n",
       "      <td>0.381594</td>\n",
       "    </tr>\n",
       "    <tr>\n",
       "      <th>std</th>\n",
       "      <td>14.526497</td>\n",
       "      <td>13.540579</td>\n",
       "      <td>0.000491</td>\n",
       "      <td>0.013437</td>\n",
       "      <td>1.376792</td>\n",
       "      <td>49.693429</td>\n",
       "      <td>0.435553</td>\n",
       "      <td>0.477990</td>\n",
       "      <td>2.059702</td>\n",
       "      <td>0.791503</td>\n",
       "      <td>1.143720</td>\n",
       "      <td>9.281607</td>\n",
       "      <td>1.102743</td>\n",
       "      <td>0.806057</td>\n",
       "    </tr>\n",
       "    <tr>\n",
       "      <th>min</th>\n",
       "      <td>0.420000</td>\n",
       "      <td>0.420000</td>\n",
       "      <td>0.000016</td>\n",
       "      <td>0.000434</td>\n",
       "      <td>0.000000</td>\n",
       "      <td>0.000000</td>\n",
       "      <td>0.000000</td>\n",
       "      <td>0.000000</td>\n",
       "      <td>0.000000</td>\n",
       "      <td>0.000000</td>\n",
       "      <td>1.000000</td>\n",
       "      <td>12.000000</td>\n",
       "      <td>0.000000</td>\n",
       "      <td>0.000000</td>\n",
       "    </tr>\n",
       "    <tr>\n",
       "      <th>25%</th>\n",
       "      <td>20.125000</td>\n",
       "      <td>21.000000</td>\n",
       "      <td>0.000831</td>\n",
       "      <td>0.022735</td>\n",
       "      <td>0.000000</td>\n",
       "      <td>7.910400</td>\n",
       "      <td>0.898198</td>\n",
       "      <td>0.000000</td>\n",
       "      <td>1.000000</td>\n",
       "      <td>0.000000</td>\n",
       "      <td>1.000000</td>\n",
       "      <td>20.000000</td>\n",
       "      <td>0.000000</td>\n",
       "      <td>0.000000</td>\n",
       "    </tr>\n",
       "    <tr>\n",
       "      <th>50%</th>\n",
       "      <td>28.000000</td>\n",
       "      <td>28.000000</td>\n",
       "      <td>0.001122</td>\n",
       "      <td>0.030692</td>\n",
       "      <td>0.000000</td>\n",
       "      <td>14.454200</td>\n",
       "      <td>1.159994</td>\n",
       "      <td>1.000000</td>\n",
       "      <td>1.000000</td>\n",
       "      <td>0.000000</td>\n",
       "      <td>1.000000</td>\n",
       "      <td>25.000000</td>\n",
       "      <td>0.000000</td>\n",
       "      <td>0.000000</td>\n",
       "    </tr>\n",
       "    <tr>\n",
       "      <th>75%</th>\n",
       "      <td>38.000000</td>\n",
       "      <td>38.000000</td>\n",
       "      <td>0.001323</td>\n",
       "      <td>0.036170</td>\n",
       "      <td>0.000000</td>\n",
       "      <td>31.000000</td>\n",
       "      <td>1.491362</td>\n",
       "      <td>1.000000</td>\n",
       "      <td>2.000000</td>\n",
       "      <td>1.000000</td>\n",
       "      <td>2.000000</td>\n",
       "      <td>30.000000</td>\n",
       "      <td>1.000000</td>\n",
       "      <td>0.000000</td>\n",
       "    </tr>\n",
       "    <tr>\n",
       "      <th>max</th>\n",
       "      <td>80.000000</td>\n",
       "      <td>80.000000</td>\n",
       "      <td>0.003023</td>\n",
       "      <td>0.082674</td>\n",
       "      <td>5.000000</td>\n",
       "      <td>512.329200</td>\n",
       "      <td>2.709549</td>\n",
       "      <td>1.000000</td>\n",
       "      <td>9.000000</td>\n",
       "      <td>2.000000</td>\n",
       "      <td>5.000000</td>\n",
       "      <td>82.000000</td>\n",
       "      <td>8.000000</td>\n",
       "      <td>6.000000</td>\n",
       "    </tr>\n",
       "  </tbody>\n",
       "</table>\n",
       "</div>"
      ],
      "text/plain": [
       "              Age  random_age  avg_age_l1  avg_age_l2   cabin_cat        Fare  \\\n",
       "count  714.000000  891.000000  891.000000  891.000000  891.000000  891.000000   \n",
       "mean    29.699118   29.510853    0.001122    0.030692    0.648709   32.204208   \n",
       "std     14.526497   13.540579    0.000491    0.013437    1.376792   49.693429   \n",
       "min      0.420000    0.420000    0.000016    0.000434    0.000000    0.000000   \n",
       "25%     20.125000   21.000000    0.000831    0.022735    0.000000    7.910400   \n",
       "50%     28.000000   28.000000    0.001122    0.030692    0.000000   14.454200   \n",
       "75%     38.000000   38.000000    0.001323    0.036170    0.000000   31.000000   \n",
       "max     80.000000   80.000000    0.003023    0.082674    5.000000  512.329200   \n",
       "\n",
       "       fare_log10     sex_cat  ticket_cat  embarked_cat       title  \\\n",
       "count  891.000000  891.000000  891.000000    891.000000  891.000000   \n",
       "mean     1.256781    0.647587    2.017957      0.463524    1.773288   \n",
       "std      0.435553    0.477990    2.059702      0.791503    1.143720   \n",
       "min      0.000000    0.000000    0.000000      0.000000    1.000000   \n",
       "25%      0.898198    0.000000    1.000000      0.000000    1.000000   \n",
       "50%      1.159994    1.000000    1.000000      0.000000    1.000000   \n",
       "75%      1.491362    1.000000    2.000000      1.000000    2.000000   \n",
       "max      2.709549    1.000000    9.000000      2.000000    5.000000   \n",
       "\n",
       "       name_length       SibSp       Parch  \n",
       "count   891.000000  891.000000  891.000000  \n",
       "mean     26.965208    0.523008    0.381594  \n",
       "std       9.281607    1.102743    0.806057  \n",
       "min      12.000000    0.000000    0.000000  \n",
       "25%      20.000000    0.000000    0.000000  \n",
       "50%      25.000000    0.000000    0.000000  \n",
       "75%      30.000000    1.000000    0.000000  \n",
       "max      82.000000    8.000000    6.000000  "
      ]
     },
     "execution_count": 108,
     "metadata": {},
     "output_type": "execute_result"
    }
   ],
   "source": [
    "df_train = df[['Age', 'random_age', 'avg_age_l1', 'avg_age_l2', 'cabin_cat', 'Fare', 'fare_log10', 'sex_cat', 'ticket_cat', 'embarked_cat', 'title', 'name_length', 'SibSp', 'Parch',]]\n",
    "df_train.describe()"
   ]
  },
  {
   "cell_type": "code",
   "execution_count": 140,
   "metadata": {
    "collapsed": false
   },
   "outputs": [
    {
     "name": "stdout",
     "output_type": "stream",
     "text": [
      "(891, 14)\n",
      "(891, 6)\n",
      "(891, 20)\n"
     ]
    }
   ],
   "source": [
    "X_train = np.concatenate([df_train.values, age_fare_ploy], axis=1)\n",
    "print(df_train.values.shape)\n",
    "print(age_fare_ploy.shape)\n",
    "print(X_train.shape)"
   ]
  },
  {
   "cell_type": "code",
   "execution_count": null,
   "metadata": {
    "collapsed": true
   },
   "outputs": [],
   "source": []
  }
 ],
 "metadata": {
  "kernelspec": {
   "display_name": "Python 3",
   "language": "python",
   "name": "python3"
  },
  "language_info": {
   "codemirror_mode": {
    "name": "ipython",
    "version": 3
   },
   "file_extension": ".py",
   "mimetype": "text/x-python",
   "name": "python",
   "nbconvert_exporter": "python",
   "pygments_lexer": "ipython3",
   "version": "3.5.3"
  }
 },
 "nbformat": 4,
 "nbformat_minor": 2
}
